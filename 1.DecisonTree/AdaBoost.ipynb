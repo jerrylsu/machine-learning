{
 "cells": [
  {
   "cell_type": "code",
   "execution_count": 14,
   "metadata": {},
   "outputs": [],
   "source": [
    "import numpy as np"
   ]
  },
  {
   "cell_type": "code",
   "execution_count": 69,
   "metadata": {},
   "outputs": [],
   "source": [
    "class AdaBoost:\n",
    "    def loadSimpleData(self):\n",
    "        datMat = np.matrix([[1., 2.1],\n",
    "            [2., 1.1],\n",
    "            [1.3, 1.],\n",
    "            [1., 1.],\n",
    "            [2., 1.]])\n",
    "        classLabels = [1.0, 1.0, -1.0, -1.0, 1.0]\n",
    "        return datMat, classLabels    \n",
    "    \n",
    "    def stumpClassify(self, dataMatrix, dimen, threshVal, threshIneq):\n",
    "        retArray = np.ones((np.shape(dataMatrix)[0], 1))\n",
    "        if threshIneq == 'lt':\n",
    "            retArray[retArray[:, dimen] <= threshVal] = -1.0\n",
    "        else:\n",
    "            retArray[retArray[:, dimen] > threshVal] = -1.0\n",
    "        return retArray\n",
    "    \n",
    "    def buildStump(self, dataArr, classLabels, D):\n",
    "        dataMatrix = np.mat(dataArr)\n",
    "        labelMat = np.mat(classLabels).T\n",
    "        m, n = np.shape(dataMatrix)\n",
    "        numSteps = 10.0\n",
    "        bestStump = {}\n",
    "        bestClassEst = np.mat(np.zeros((m, 1)))\n",
    "        minError = 10000\n",
    "        for i in range(n):\n",
    "            rangeMin = dataMatrix[:, i].min()\n",
    "            rangeMax = dataMatrix[:, i].max()\n",
    "            stepSize = (rangeMax - rangeMin) / numSteps\n",
    "            for j in range(-1, int(numSteps) + 1):\n",
    "                for inequal in ['lt', 'gt']:\n",
    "                    threshVal = (rangeMin + float(j) * stepSize)\n",
    "                    predictedVals = self.stumpClassify(dataMatrix, i, threshVal, inequal)\n",
    "                    errArr = np.mat((m, 1))\n",
    "                    print(errArr)\n",
    "                    errArr[predictedVals == labelMat] = 0\n",
    "                    weightedError = D.T * errArr\n",
    "                    if weightedError < minError:\n",
    "                        minError = weightedError\n",
    "                        bestClassEst = predictedVals.copy()\n",
    "                        bestStump['dim'] = i\n",
    "                        bestStump['thresh'] = threshVal\n",
    "                        bestStump['ineq'] = inequal\n",
    "        return bestStump, minError, bestClassEst"
   ]
  },
  {
   "cell_type": "code",
   "execution_count": 70,
   "metadata": {},
   "outputs": [],
   "source": [
    "boost = AdaBoost()\n",
    "dataMat, labels = boost.loadSimpleData()"
   ]
  },
  {
   "cell_type": "code",
   "execution_count": 71,
   "metadata": {},
   "outputs": [
    {
     "name": "stdout",
     "output_type": "stream",
     "text": [
      "[[5 1]]\n"
     ]
    },
    {
     "ename": "IndexError",
     "evalue": "boolean index did not match indexed array along dimension 0; dimension is 1 but corresponding boolean dimension is 5",
     "output_type": "error",
     "traceback": [
      "\u001b[0;31m---------------------------------------------------------------------------\u001b[0m",
      "\u001b[0;31mIndexError\u001b[0m                                Traceback (most recent call last)",
      "\u001b[0;32m<ipython-input-71-df0c8c175eb4>\u001b[0m in \u001b[0;36m<module>\u001b[0;34m\u001b[0m\n\u001b[0;32m----> 1\u001b[0;31m \u001b[0mboost\u001b[0m\u001b[0;34m.\u001b[0m\u001b[0mbuildStump\u001b[0m\u001b[0;34m(\u001b[0m\u001b[0mdataMat\u001b[0m\u001b[0;34m,\u001b[0m \u001b[0mlabels\u001b[0m\u001b[0;34m,\u001b[0m \u001b[0mnp\u001b[0m\u001b[0;34m.\u001b[0m\u001b[0mmat\u001b[0m\u001b[0;34m(\u001b[0m\u001b[0mnp\u001b[0m\u001b[0;34m.\u001b[0m\u001b[0mones\u001b[0m\u001b[0;34m(\u001b[0m\u001b[0;34m(\u001b[0m\u001b[0;36m5\u001b[0m\u001b[0;34m,\u001b[0m \u001b[0;36m1\u001b[0m\u001b[0;34m)\u001b[0m\u001b[0;34m)\u001b[0m\u001b[0;34m)\u001b[0m\u001b[0;34m)\u001b[0m\u001b[0;34m\u001b[0m\u001b[0m\n\u001b[0m",
      "\u001b[0;32m<ipython-input-69-25018201d427>\u001b[0m in \u001b[0;36mbuildStump\u001b[0;34m(self, dataArr, classLabels, D)\u001b[0m\n\u001b[1;32m     35\u001b[0m                     \u001b[0merrArr\u001b[0m \u001b[0;34m=\u001b[0m \u001b[0mnp\u001b[0m\u001b[0;34m.\u001b[0m\u001b[0mmat\u001b[0m\u001b[0;34m(\u001b[0m\u001b[0;34m(\u001b[0m\u001b[0mm\u001b[0m\u001b[0;34m,\u001b[0m \u001b[0;36m1\u001b[0m\u001b[0;34m)\u001b[0m\u001b[0;34m)\u001b[0m\u001b[0;34m\u001b[0m\u001b[0m\n\u001b[1;32m     36\u001b[0m                     \u001b[0mprint\u001b[0m\u001b[0;34m(\u001b[0m\u001b[0merrArr\u001b[0m\u001b[0;34m)\u001b[0m\u001b[0;34m\u001b[0m\u001b[0m\n\u001b[0;32m---> 37\u001b[0;31m                     \u001b[0merrArr\u001b[0m\u001b[0;34m[\u001b[0m\u001b[0mpredictedVals\u001b[0m \u001b[0;34m==\u001b[0m \u001b[0mlabelMat\u001b[0m\u001b[0;34m]\u001b[0m \u001b[0;34m=\u001b[0m \u001b[0;36m0\u001b[0m\u001b[0;34m\u001b[0m\u001b[0m\n\u001b[0m\u001b[1;32m     38\u001b[0m                     \u001b[0mweightedError\u001b[0m \u001b[0;34m=\u001b[0m \u001b[0mD\u001b[0m\u001b[0;34m.\u001b[0m\u001b[0mT\u001b[0m \u001b[0;34m*\u001b[0m \u001b[0merrArr\u001b[0m\u001b[0;34m\u001b[0m\u001b[0m\n\u001b[1;32m     39\u001b[0m                     \u001b[0;32mif\u001b[0m \u001b[0mweightedError\u001b[0m \u001b[0;34m<\u001b[0m \u001b[0mminError\u001b[0m\u001b[0;34m:\u001b[0m\u001b[0;34m\u001b[0m\u001b[0m\n",
      "\u001b[0;31mIndexError\u001b[0m: boolean index did not match indexed array along dimension 0; dimension is 1 but corresponding boolean dimension is 5"
     ]
    }
   ],
   "source": [
    "boost.buildStump(dataMat, labels, np.mat(np.ones((5, 1))))"
   ]
  }
 ],
 "metadata": {
  "kernelspec": {
   "display_name": "Python 3",
   "language": "python",
   "name": "python3"
  },
  "language_info": {
   "codemirror_mode": {
    "name": "ipython",
    "version": 3
   },
   "file_extension": ".py",
   "mimetype": "text/x-python",
   "name": "python",
   "nbconvert_exporter": "python",
   "pygments_lexer": "ipython3",
   "version": "3.6.6"
  }
 },
 "nbformat": 4,
 "nbformat_minor": 2
}
